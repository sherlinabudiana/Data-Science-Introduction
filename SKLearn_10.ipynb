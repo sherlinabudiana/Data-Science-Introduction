{
 "cells": [
  {
   "cell_type": "markdown",
   "id": "6e218946",
   "metadata": {},
   "source": [
    "# Mengenal Text Processing: Bag of Words and Stop Word Filtering"
   ]
  },
  {
   "cell_type": "code",
   "execution_count": 1,
   "id": "90dd32cf",
   "metadata": {},
   "outputs": [],
   "source": [
    "# bag of words sebagai representasi text\n",
    "# menyederhanakan representasi text sebagai sekumpulan kata serta mengabadikan grammar dan posisi taip kata \n",
    "# pada kalimat. Text akan dikonversi menjadi lowercase dan tanda baca akan diabaikan"
   ]
  },
  {
   "cell_type": "code",
   "execution_count": 30,
   "id": "597fc87f",
   "metadata": {},
   "outputs": [
    {
     "data": {
      "text/plain": [
       "['Linux has been around since the mid-1990s.',\n",
       " 'Linux distributions include the Linux kernel',\n",
       " 'Linux id one of the most prominent open-source software']"
      ]
     },
     "execution_count": 30,
     "metadata": {},
     "output_type": "execute_result"
    }
   ],
   "source": [
    "corpus = ['Linux has been around since the mid-1990s.',\n",
    "          'Linux distributions include the Linux kernel',\n",
    "          'Linux id one of the most prominent open-source software']\n",
    "\n",
    "corpus"
   ]
  },
  {
   "cell_type": "code",
   "execution_count": 34,
   "id": "7c7ef69d",
   "metadata": {},
   "outputs": [
    {
     "data": {
      "text/plain": [
       "array([[1, 1, 1, 0, 1, 0, 0, 0, 1, 1, 0, 0, 0, 0, 0, 1, 0, 0, 1],\n",
       "       [0, 0, 0, 1, 0, 0, 1, 1, 2, 0, 0, 0, 0, 0, 0, 0, 0, 0, 1],\n",
       "       [0, 0, 0, 0, 0, 1, 0, 0, 1, 0, 1, 1, 1, 1, 1, 0, 1, 1, 1]],\n",
       "      dtype=int64)"
      ]
     },
     "execution_count": 34,
     "metadata": {},
     "output_type": "execute_result"
    }
   ],
   "source": [
    "# bag of words dengan countvectorizer\n",
    "\n",
    "from sklearn.feature_extraction.text import CountVectorizer\n",
    "\n",
    "vectorizer = CountVectorizer()\n",
    "vectorized_x = vectorizer.fit_transform(corpus).toarray()\n",
    "vectorized_x"
   ]
  },
  {
   "cell_type": "code",
   "execution_count": 35,
   "id": "874f339d",
   "metadata": {},
   "outputs": [
    {
     "data": {
      "text/plain": [
       "array(['1990s', 'around', 'been', 'distributions', 'has', 'id', 'include',\n",
       "       'kernel', 'linux', 'mid', 'most', 'of', 'one', 'open', 'prominent',\n",
       "       'since', 'software', 'source', 'the'], dtype=object)"
      ]
     },
     "execution_count": 35,
     "metadata": {},
     "output_type": "execute_result"
    }
   ],
   "source": [
    "vectorizer.get_feature_names_out()"
   ]
  },
  {
   "cell_type": "code",
   "execution_count": 40,
   "id": "3b5f83e4",
   "metadata": {},
   "outputs": [
    {
     "name": "stdout",
     "output_type": "stream",
     "text": [
      "jarak dokumen 1 dan 2: 3.1622776601683795\n",
      "jarak dokumen 1 dan 3: 3.7416573867739413\n",
      "jarak dokumen 2 dan 3: 3.4641016151377544\n"
     ]
    }
   ],
   "source": [
    "# mengukur kedekatan atau jarak antar dokumen\n",
    "\n",
    "from sklearn.metrics.pairwise import euclidean_distances\n",
    "\n",
    "for i in range (len(vectorized_x)):\n",
    "    for j in range (i, len(vectorized_x)):\n",
    "        if i==j:\n",
    "            continue\n",
    "        jarak = euclidean_distances(vectorized_x[i].reshape(1, -1), vectorized_x[j].reshape(1, -1))\n",
    "        print(f'jarak dokumen {i+1} dan {j+1}: {jarak[0][0]}')"
   ]
  },
  {
   "cell_type": "code",
   "execution_count": null,
   "id": "96657c2e",
   "metadata": {},
   "outputs": [],
   "source": [
    "# stop word filtering pada text\n",
    "# menyederhanakan repreentasi text dengan mengabaikan beberapa kata seperti\n",
    "# delimiters (the, a, an)\n",
    "# auxilary verbs (do, be, will)\n",
    "# preposition (on, in, at)"
   ]
  },
  {
   "cell_type": "code",
   "execution_count": 41,
   "id": "f4d2c94e",
   "metadata": {},
   "outputs": [
    {
     "data": {
      "text/plain": [
       "['Linux has been around since the mid-1990s.',\n",
       " 'Linux distributions include the Linux kernel',\n",
       " 'Linux id one of the most prominent open-source software']"
      ]
     },
     "execution_count": 41,
     "metadata": {},
     "output_type": "execute_result"
    }
   ],
   "source": [
    "corpus"
   ]
  },
  {
   "cell_type": "code",
   "execution_count": 42,
   "id": "ac0ce9e5",
   "metadata": {},
   "outputs": [
    {
     "data": {
      "text/plain": [
       "array([[1, 0, 0, 0, 0, 1, 1, 0, 0, 0, 0],\n",
       "       [0, 1, 0, 1, 1, 2, 0, 0, 0, 0, 0],\n",
       "       [0, 0, 1, 0, 0, 1, 0, 1, 1, 1, 1]], dtype=int64)"
      ]
     },
     "execution_count": 42,
     "metadata": {},
     "output_type": "execute_result"
    }
   ],
   "source": [
    "vectorizer = CountVectorizer (stop_words='english')\n",
    "vectorized_x = vectorizer.fit_transform(corpus).toarray()\n",
    "vectorized_x"
   ]
  },
  {
   "cell_type": "code",
   "execution_count": 45,
   "id": "b29e2724",
   "metadata": {},
   "outputs": [
    {
     "data": {
      "text/plain": [
       "array(['1990s', 'distributions', 'id', 'include', 'kernel', 'linux',\n",
       "       'mid', 'open', 'prominent', 'software', 'source'], dtype=object)"
      ]
     },
     "execution_count": 45,
     "metadata": {},
     "output_type": "execute_result"
    }
   ],
   "source": [
    "vectorizer.get_feature_names_out()"
   ]
  },
  {
   "cell_type": "code",
   "execution_count": null,
   "id": "591fbaed",
   "metadata": {},
   "outputs": [],
   "source": []
  }
 ],
 "metadata": {
  "kernelspec": {
   "display_name": "Python 3 (ipykernel)",
   "language": "python",
   "name": "python3"
  },
  "language_info": {
   "codemirror_mode": {
    "name": "ipython",
    "version": 3
   },
   "file_extension": ".py",
   "mimetype": "text/x-python",
   "name": "python",
   "nbconvert_exporter": "python",
   "pygments_lexer": "ipython3",
   "version": "3.11.5"
  }
 },
 "nbformat": 4,
 "nbformat_minor": 5
}
