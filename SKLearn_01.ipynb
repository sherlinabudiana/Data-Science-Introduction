{
 "cells": [
  {
   "cell_type": "markdown",
   "id": "6876f07e",
   "metadata": {},
   "source": [
    "# Pengenalan Machine Learning"
   ]
  },
  {
   "cell_type": "code",
   "execution_count": null,
   "id": "5326d727",
   "metadata": {},
   "outputs": [],
   "source": [
    "Learning problem\n",
    "\n",
    "Melibatkan suatu dataset untuk melakukan prediksi terhadap properties \n",
    "yang tidak diketahui pada dataset lain yang sejenis\n",
    "\n",
    "dibagi jadi 2 :\n",
    "    1. Supervised Learning\n",
    "        program memprediksi suatu nilai output untuk suatu input berdasarkan \n",
    "        proses learning dengan  memanfaatkan sekumpulan data yang terbagi \n",
    "        dalam dua label: input dan output. Program melakukan learning dari \n",
    "        sekumpulan contoh kasus yang menyertakan \"jawaban benar\"\n",
    "    2. Unsupervised Learning\n",
    "        program mencoba menemukan pattern pada data. program melakukan \n",
    "        learning dari sekumpulan contoh kasus tanpa disertai \"jawaban benar\""
   ]
  },
  {
   "cell_type": "code",
   "execution_count": null,
   "id": "742c0315",
   "metadata": {},
   "outputs": [],
   "source": [
    "terminologi Supervised Learning\n",
    "    Output: (kunci jawaban) label, response variable, explained variable, experimental variable\n",
    "    Input: (Pertanyaan) features, explanatory variables, predictors, controlled variables, exposure  \n",
    "    Training Set: contoh yang digunakan untuk proses learning/training\n",
    "    Test Set: contoh yang digunakan untuk mengukur performa  "
   ]
  },
  {
   "cell_type": "code",
   "execution_count": null,
   "id": "58bfdbe7",
   "metadata": {},
   "outputs": [],
   "source": [
    "Supervised Learning Task\n",
    "    1. Classification \n",
    "        proses learning untuk melakukan prediksi nilai diskret\n",
    "    2. Regression\n",
    "        proses learning untuk melakukan prediksi nilai continuous"
   ]
  },
  {
   "cell_type": "code",
   "execution_count": null,
   "id": "d0610dd6",
   "metadata": {},
   "outputs": [],
   "source": [
    "Unsupervised Learning Task\n",
    "    1. Clustering\n",
    "        proses eksplorasi data untuk menemukan group pada data berdasarkan kemiripan karakteristik\n",
    "    2. Dimensionality Reduction\n",
    "        proses eksplorasi data untuk menemukan sejumlah features yang paling bedampak terhadap response variable\n"
   ]
  }
 ],
 "metadata": {
  "kernelspec": {
   "display_name": "Python 3 (ipykernel)",
   "language": "python",
   "name": "python3"
  },
  "language_info": {
   "codemirror_mode": {
    "name": "ipython",
    "version": 3
   },
   "file_extension": ".py",
   "mimetype": "text/x-python",
   "name": "python",
   "nbconvert_exporter": "python",
   "pygments_lexer": "ipython3",
   "version": "3.11.5"
  }
 },
 "nbformat": 4,
 "nbformat_minor": 5
}
